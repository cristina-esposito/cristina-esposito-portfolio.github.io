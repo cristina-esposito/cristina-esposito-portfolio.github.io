{
 "cells": [
  {
   "cell_type": "code",
   "execution_count": 12,
   "id": "18c1a674",
   "metadata": {},
   "outputs": [],
   "source": [
    "# importing libraries \n",
    "\n",
    "import pandas as pd \n",
    "import matplotlib.pyplot as plt\n",
    "import numpy as np\n",
    "import seaborn as sns\n",
    "import spacy\n",
    "from profanity_filter import ProfanityFilter"
   ]
  },
  {
   "cell_type": "code",
   "execution_count": 13,
   "id": "4c02120b",
   "metadata": {},
   "outputs": [],
   "source": [
    "# importing black lives matter df  (blm)\n",
    "\n",
    "pre_blm = pd.read_csv('BlackLM_Toxicity_pre.csv', index_col = 0)\n",
    "pre_blm = pre_blm[pre_blm.ToxicityScore<100]\n",
    "\n",
    "during_blm = pd.read_csv('BlackLM_Toxicity_during.csv', index_col = 0)\n",
    "during_blm = during_blm[during_blm.ToxicityScore<100]\n",
    "\n",
    "post_blm = pd.read_csv('BlackLM_Toxicity_post.csv', index_col = 0)\n",
    "post_blm = post_blm[post_blm.ToxicityScore<100]\n",
    "\n",
    "# importing blue lives matter df (clm = cop lives matters)\n",
    "\n",
    "pre_clm = pd.read_csv('BlueLM_Toxicity_pre.csv', index_col = 0)\n",
    "pre_clm = pre_clm[pre_clm.ToxicityScore<100]\n",
    "\n",
    "during_clm = pd.read_csv('BlueLM_Toxicity_during.csv', index_col = 0)\n",
    "during_clm = during_clm[during_clm.ToxicityScore<100]\n",
    "\n",
    "post_clm = pd.read_csv('BlueLM_Toxicity_post.csv', index_col = 0)\n",
    "post_clm = post_clm[post_clm.ToxicityScore<100]\n",
    "\n",
    "# putting df in a list \n",
    "\n",
    "blm_list = [pre_blm, during_blm, post_blm]\n",
    "clm_list = [pre_clm, during_clm, post_clm]\n"
   ]
  },
  {
   "cell_type": "code",
   "execution_count": 122,
   "id": "f22d1037",
   "metadata": {},
   "outputs": [],
   "source": [
    "# calculating average toxicity score per period \n",
    "score = []\n",
    "labels = ['Black Lives Matter']*3+ ['Blue Lives Matter']*3\n",
    "period = ['Pre-Event', 'During', 'Post-Event']*2\n",
    "\n",
    "for df in blm_list:\n",
    "    score.append(np.mean(df.ToxicityScore))\n",
    "    \n",
    "for df in clm_list:\n",
    "    score.append(np.mean(df.ToxicityScore))\n",
    "\n",
    "results = pd.DataFrame({'Period': period,\n",
    "                       'Score': np.array(score)*100,\n",
    "                       'Movement': labels})"
   ]
  },
  {
   "cell_type": "code",
   "execution_count": 123,
   "id": "492e0aab",
   "metadata": {},
   "outputs": [
    {
     "data": {
      "text/html": [
       "<div>\n",
       "<style scoped>\n",
       "    .dataframe tbody tr th:only-of-type {\n",
       "        vertical-align: middle;\n",
       "    }\n",
       "\n",
       "    .dataframe tbody tr th {\n",
       "        vertical-align: top;\n",
       "    }\n",
       "\n",
       "    .dataframe thead th {\n",
       "        text-align: right;\n",
       "    }\n",
       "</style>\n",
       "<table border=\"1\" class=\"dataframe\">\n",
       "  <thead>\n",
       "    <tr style=\"text-align: right;\">\n",
       "      <th></th>\n",
       "      <th>Period</th>\n",
       "      <th>Score</th>\n",
       "      <th>Movement</th>\n",
       "    </tr>\n",
       "  </thead>\n",
       "  <tbody>\n",
       "    <tr>\n",
       "      <th>0</th>\n",
       "      <td>Pre-Event</td>\n",
       "      <td>37.073403</td>\n",
       "      <td>Black Lives Matter</td>\n",
       "    </tr>\n",
       "    <tr>\n",
       "      <th>1</th>\n",
       "      <td>During</td>\n",
       "      <td>27.956903</td>\n",
       "      <td>Black Lives Matter</td>\n",
       "    </tr>\n",
       "    <tr>\n",
       "      <th>2</th>\n",
       "      <td>Post-Event</td>\n",
       "      <td>33.628073</td>\n",
       "      <td>Black Lives Matter</td>\n",
       "    </tr>\n",
       "    <tr>\n",
       "      <th>3</th>\n",
       "      <td>Pre-Event</td>\n",
       "      <td>30.820146</td>\n",
       "      <td>Blue Lives Matter</td>\n",
       "    </tr>\n",
       "    <tr>\n",
       "      <th>4</th>\n",
       "      <td>During</td>\n",
       "      <td>36.627652</td>\n",
       "      <td>Blue Lives Matter</td>\n",
       "    </tr>\n",
       "    <tr>\n",
       "      <th>5</th>\n",
       "      <td>Post-Event</td>\n",
       "      <td>33.121232</td>\n",
       "      <td>Blue Lives Matter</td>\n",
       "    </tr>\n",
       "  </tbody>\n",
       "</table>\n",
       "</div>"
      ],
      "text/plain": [
       "       Period      Score            Movement\n",
       "0   Pre-Event  37.073403  Black Lives Matter\n",
       "1      During  27.956903  Black Lives Matter\n",
       "2  Post-Event  33.628073  Black Lives Matter\n",
       "3   Pre-Event  30.820146   Blue Lives Matter\n",
       "4      During  36.627652   Blue Lives Matter\n",
       "5  Post-Event  33.121232   Blue Lives Matter"
      ]
     },
     "execution_count": 123,
     "metadata": {},
     "output_type": "execute_result"
    }
   ],
   "source": [
    "results"
   ]
  },
  {
   "cell_type": "code",
   "execution_count": 124,
   "id": "897bbb34",
   "metadata": {},
   "outputs": [
    {
     "data": {
      "text/plain": [
       "array([1, 2, 3])"
      ]
     },
     "execution_count": 124,
     "metadata": {},
     "output_type": "execute_result"
    }
   ],
   "source": [
    "np.arange(1,4)"
   ]
  },
  {
   "cell_type": "code",
   "execution_count": 125,
   "id": "60301ac5",
   "metadata": {},
   "outputs": [
    {
     "data": {
      "text/html": [
       "<div>\n",
       "<style scoped>\n",
       "    .dataframe tbody tr th:only-of-type {\n",
       "        vertical-align: middle;\n",
       "    }\n",
       "\n",
       "    .dataframe tbody tr th {\n",
       "        vertical-align: top;\n",
       "    }\n",
       "\n",
       "    .dataframe thead th {\n",
       "        text-align: right;\n",
       "    }\n",
       "</style>\n",
       "<table border=\"1\" class=\"dataframe\">\n",
       "  <thead>\n",
       "    <tr style=\"text-align: right;\">\n",
       "      <th></th>\n",
       "      <th>Period</th>\n",
       "      <th>Score</th>\n",
       "      <th>Movement</th>\n",
       "    </tr>\n",
       "  </thead>\n",
       "  <tbody>\n",
       "    <tr>\n",
       "      <th>0</th>\n",
       "      <td>Pre-Event</td>\n",
       "      <td>37.073403</td>\n",
       "      <td>Black Lives Matter</td>\n",
       "    </tr>\n",
       "    <tr>\n",
       "      <th>1</th>\n",
       "      <td>During</td>\n",
       "      <td>27.956903</td>\n",
       "      <td>Black Lives Matter</td>\n",
       "    </tr>\n",
       "    <tr>\n",
       "      <th>2</th>\n",
       "      <td>Post-Event</td>\n",
       "      <td>33.628073</td>\n",
       "      <td>Black Lives Matter</td>\n",
       "    </tr>\n",
       "  </tbody>\n",
       "</table>\n",
       "</div>"
      ],
      "text/plain": [
       "       Period      Score            Movement\n",
       "0   Pre-Event  37.073403  Black Lives Matter\n",
       "1      During  27.956903  Black Lives Matter\n",
       "2  Post-Event  33.628073  Black Lives Matter"
      ]
     },
     "execution_count": 125,
     "metadata": {},
     "output_type": "execute_result"
    }
   ],
   "source": [
    "results[results.Movement =='Black Lives Matter']"
   ]
  },
  {
   "cell_type": "code",
   "execution_count": 126,
   "id": "8c1f23f4",
   "metadata": {},
   "outputs": [
    {
     "data": {
      "image/png": "[encoded data removed]",
      "text/plain": [
       "<Figure size 720x360 with 1 Axes>"
      ]
     },
     "metadata": {},
     "output_type": "display_data"
    }
   ],
   "source": [
    "# Position of bars on x-axis\n",
    "plt.style.use('ggplot')\n",
    "\n",
    "# Figure size\n",
    "plt.figure(figsize=(10,5))\n",
    "ax = plt.subplot()\n",
    "\n",
    "# Width of a bar \n",
    "width = 0.3       \n",
    "\n",
    "# Plotting\n",
    "plt.bar(np.array([1,2,3]), results[results.Movement =='Black Lives Matter']['Score'] , width, label='Black Lives Matter')\n",
    "plt.bar(np.array([1,2,3])+width, results[results.Movement =='Blue Lives Matter']['Score'] , width, label='Blue Lives Matter')\n",
    "\n",
    "plt.xlabel('Period')\n",
    "plt.ylabel('Toxicity Score')\n",
    "plt.title('Toxicity Score Comparison')\n",
    "\n",
    "# xticks()\n",
    "# First argument - A list of positions at which ticks should be placed\n",
    "# Second argument -  A list of labels to place at the given locations\n",
    "plt.xticks(np.array([1,2,3]) + width / 2, ('Pre-Event', 'During', 'Post-Event'))\n",
    "\n",
    "# Finding the best position for legends and putting it\n",
    "plt.legend(loc='best')\n",
    "ax.legend(loc='center left', bbox_to_anchor=(1, 0.94), fancybox=True, shadow=True)\n",
    "\n",
    "plt.show()"
   ]
  },
  {
   "cell_type": "markdown",
   "id": "01ae6e8e",
   "metadata": {},
   "source": [
    "## Extension"
   ]
  },
  {
   "cell_type": "code",
   "execution_count": 103,
   "id": "4eb98800",
   "metadata": {},
   "outputs": [
    {
     "name": "stdout",
     "output_type": "stream",
     "text": [
      "Collecting profanity_filter\n",
      "  Downloading profanity_filter-1.3.3-py3-none-any.whl (45 kB)\n",
      "     ---------------------------------------- 46.0/46.0 KB 2.4 MB/s eta 0:00:00\n",
      "Collecting ordered-set-stubs<0.2.0,>=0.1.3\n",
      "  Downloading ordered_set_stubs-0.1.3-py2.py3-none-any.whl (4.8 kB)\n",
      "Collecting redis<4.0,>=3.2\n",
      "  Downloading redis-3.5.3-py2.py3-none-any.whl (72 kB)\n",
      "     ---------------------------------------- 72.1/72.1 KB 4.1 MB/s eta 0:00:00\n",
      "Collecting cached-property<2.0,>=1.5\n",
      "  Downloading cached_property-1.5.2-py2.py3-none-any.whl (7.6 kB)\n",
      "Collecting poetry-version<0.2.0,>=0.1.3\n",
      "  Downloading poetry_version-0.1.5-py2.py3-none-any.whl (13 kB)\n",
      "Requirement already satisfied: more-itertools<9.0,>=8.0 in c:\\users\\admin\\anaconda3\\lib\\site-packages (from profanity_filter) (8.7.0)\n",
      "Collecting spacy<3.0,>=2.0\n",
      "  Downloading spacy-2.3.7-cp38-cp38-win_amd64.whl (9.7 MB)\n",
      "     ---------------------------------------- 9.7/9.7 MB 9.8 MB/s eta 0:00:00\n",
      "Collecting ordered-set<4.0,>=3.0\n",
      "  Downloading ordered-set-3.1.1.tar.gz (10 kB)\n",
      "  Preparing metadata (setup.py): started\n",
      "  Preparing metadata (setup.py): finished with status 'done'\n",
      "Collecting ruamel.yaml<0.16.0,>=0.15.89\n",
      "  Downloading ruamel.yaml-0.15.100.tar.gz (318 kB)\n",
      "     -------------------------------------- 318.6/318.6 KB 6.7 MB/s eta 0:00:00\n",
      "  Preparing metadata (setup.py): started\n",
      "  Preparing metadata (setup.py): finished with status 'done'\n",
      "Requirement already satisfied: pydantic<2.0,>=1.3 in c:\\users\\admin\\anaconda3\\lib\\site-packages (from profanity_filter) (1.9.0)\n",
      "Collecting tomlkit<0.6.0,>=0.4.6\n",
      "  Downloading tomlkit-0.5.11-py2.py3-none-any.whl (31 kB)\n",
      "Requirement already satisfied: typing-extensions>=3.7.4.3 in c:\\users\\admin\\anaconda3\\lib\\site-packages (from pydantic<2.0,>=1.3->profanity_filter) (3.7.4.3)\n",
      "Requirement already satisfied: setuptools in c:\\users\\admin\\anaconda3\\lib\\site-packages (from spacy<3.0,>=2.0->profanity_filter) (52.0.0.post20210125)\n",
      "Collecting blis<0.8.0,>=0.4.0\n",
      "  Downloading blis-0.7.7-cp38-cp38-win_amd64.whl (6.6 MB)\n",
      "     ---------------------------------------- 6.6/6.6 MB 9.3 MB/s eta 0:00:00\n",
      "Requirement already satisfied: tqdm<5.0.0,>=4.38.0 in c:\\users\\admin\\anaconda3\\lib\\site-packages (from spacy<3.0,>=2.0->profanity_filter) (4.59.0)\n",
      "Collecting preshed<3.1.0,>=3.0.2\n",
      "  Downloading preshed-3.0.6-cp38-cp38-win_amd64.whl (113 kB)\n",
      "     -------------------------------------- 113.0/113.0 KB 6.9 MB/s eta 0:00:00\n",
      "Collecting cymem<2.1.0,>=2.0.2\n",
      "  Downloading cymem-2.0.6-cp38-cp38-win_amd64.whl (36 kB)\n",
      "Collecting wasabi<1.1.0,>=0.4.0\n",
      "  Downloading wasabi-0.9.1-py3-none-any.whl (26 kB)\n",
      "Collecting thinc<7.5.0,>=7.4.1\n",
      "  Downloading thinc-7.4.5-cp38-cp38-win_amd64.whl (910 kB)\n",
      "     -------------------------------------- 910.4/910.4 KB 9.6 MB/s eta 0:00:00\n",
      "Collecting catalogue<1.1.0,>=0.0.7\n",
      "  Downloading catalogue-1.0.0-py2.py3-none-any.whl (7.7 kB)\n",
      "Collecting murmurhash<1.1.0,>=0.28.0\n",
      "  Downloading murmurhash-1.0.6-cp38-cp38-win_amd64.whl (21 kB)\n",
      "Collecting srsly<1.1.0,>=1.0.2\n",
      "  Downloading srsly-1.0.5-cp38-cp38-win_amd64.whl (178 kB)\n",
      "     ------------------------------------- 178.2/178.2 KB 10.5 MB/s eta 0:00:00\n",
      "Requirement already satisfied: numpy>=1.15.0 in c:\\users\\admin\\appdata\\roaming\\python\\python38\\site-packages (from spacy<3.0,>=2.0->profanity_filter) (1.22.2)\n",
      "Requirement already satisfied: requests<3.0.0,>=2.13.0 in c:\\users\\admin\\anaconda3\\lib\\site-packages (from spacy<3.0,>=2.0->profanity_filter) (2.25.1)\n",
      "Collecting plac<1.2.0,>=0.9.6\n",
      "  Downloading plac-1.1.3-py2.py3-none-any.whl (20 kB)\n",
      "Requirement already satisfied: certifi>=2017.4.17 in c:\\users\\admin\\anaconda3\\lib\\site-packages (from requests<3.0.0,>=2.13.0->spacy<3.0,>=2.0->profanity_filter) (2020.12.5)\n",
      "Requirement already satisfied: chardet<5,>=3.0.2 in c:\\users\\admin\\anaconda3\\lib\\site-packages (from requests<3.0.0,>=2.13.0->spacy<3.0,>=2.0->profanity_filter) (4.0.0)\n",
      "Requirement already satisfied: urllib3<1.27,>=1.21.1 in c:\\users\\admin\\anaconda3\\lib\\site-packages (from requests<3.0.0,>=2.13.0->spacy<3.0,>=2.0->profanity_filter) (1.26.4)\n",
      "Requirement already satisfied: idna<3,>=2.5 in c:\\users\\admin\\anaconda3\\lib\\site-packages (from requests<3.0.0,>=2.13.0->spacy<3.0,>=2.0->profanity_filter) (2.10)\n",
      "Building wheels for collected packages: ordered-set, ruamel.yaml\n",
      "  Building wheel for ordered-set (setup.py): started\n",
      "  Building wheel for ordered-set (setup.py): finished with status 'done'\n",
      "  Created wheel for ordered-set: filename=ordered_set-3.1.1-py2.py3-none-any.whl size=7812 sha256=38fcc271b3eca1c1163dc070b653e1ca42732fb86b96de4b71f2518b8857a684\n",
      "  Stored in directory: c:\\users\\admin\\appdata\\local\\pip\\cache\\wheels\\e0\\4b\\58\\5d10b0db358342975facaad98a06162b5fdf4833ad172431ba\n",
      "  Building wheel for ruamel.yaml (setup.py): started\n",
      "  Building wheel for ruamel.yaml (setup.py): finished with status 'done'\n",
      "  Created wheel for ruamel.yaml: filename=ruamel.yaml-0.15.100-py3-none-any.whl size=109796 sha256=ca425600101605c7d25d5ac71073df6cfd8fdcdbf56d730bcc51bc0910861393\n",
      "  Stored in directory: c:\\users\\admin\\appdata\\local\\pip\\cache\\wheels\\83\\bb\\c8\\84a46029883fd202fda2e3d0a579eb30641fecb325b9907fb0\n",
      "Successfully built ordered-set ruamel.yaml\n",
      "Installing collected packages: wasabi, srsly, ruamel.yaml, plac, murmurhash, cymem, cached-property, tomlkit, redis, preshed, ordered-set-stubs, ordered-set, catalogue, blis, thinc, poetry-version, spacy, profanity_filter\n",
      "Successfully installed blis-0.7.7 cached-property-1.5.2 catalogue-1.0.0 cymem-2.0.6 murmurhash-1.0.6 ordered-set-3.1.1 ordered-set-stubs-0.1.3 plac-1.1.3 poetry-version-0.1.5 preshed-3.0.6 profanity_filter-1.3.3 redis-3.5.3 ruamel.yaml-0.15.100 spacy-2.3.7 srsly-1.0.5 thinc-7.4.5 tomlkit-0.5.11 wasabi-0.9.1\n"
     ]
    },
    {
     "name": "stderr",
     "output_type": "stream",
     "text": [
      "WARNING: Ignoring invalid distribution -atplotlib (c:\\users\\admin\\anaconda3\\lib\\site-packages)\n",
      "WARNING: Ignoring invalid distribution -atplotlib (c:\\users\\admin\\anaconda3\\lib\\site-packages)\n",
      "WARNING: Ignoring invalid distribution -atplotlib (c:\\users\\admin\\anaconda3\\lib\\site-packages)\n",
      "WARNING: Ignoring invalid distribution -atplotlib (c:\\users\\admin\\anaconda3\\lib\\site-packages)\n",
      "WARNING: Ignoring invalid distribution -atplotlib (c:\\users\\admin\\anaconda3\\lib\\site-packages)\n",
      "WARNING: Ignoring invalid distribution -atplotlib (c:\\users\\admin\\anaconda3\\lib\\site-packages)\n",
      "WARNING: Ignoring invalid distribution -atplotlib (c:\\users\\admin\\anaconda3\\lib\\site-packages)\n",
      "WARNING: Ignoring invalid distribution -atplotlib (c:\\users\\admin\\anaconda3\\lib\\site-packages)\n",
      "WARNING: Ignoring invalid distribution -atplotlib (c:\\users\\admin\\anaconda3\\lib\\site-packages)\n",
      "WARNING: Ignoring invalid distribution -atplotlib (c:\\users\\admin\\anaconda3\\lib\\site-packages)\n",
      "WARNING: Ignoring invalid distribution -atplotlib (c:\\users\\admin\\anaconda3\\lib\\site-packages)\n",
      "WARNING: Ignoring invalid distribution -atplotlib (c:\\users\\admin\\anaconda3\\lib\\site-packages)\n",
      "WARNING: Ignoring invalid distribution -atplotlib (c:\\users\\admin\\anaconda3\\lib\\site-packages)\n",
      "WARNING: Ignoring invalid distribution -atplotlib (c:\\users\\admin\\anaconda3\\lib\\site-packages)\n",
      "WARNING: Ignoring invalid distribution -atplotlib (c:\\users\\admin\\anaconda3\\lib\\site-packages)\n",
      "WARNING: Ignoring invalid distribution -atplotlib (c:\\users\\admin\\anaconda3\\lib\\site-packages)\n",
      "WARNING: Ignoring invalid distribution -atplotlib (c:\\users\\admin\\anaconda3\\lib\\site-packages)\n",
      "WARNING: Ignoring invalid distribution -atplotlib (c:\\users\\admin\\anaconda3\\lib\\site-packages)\n",
      "WARNING: Ignoring invalid distribution -atplotlib (c:\\users\\admin\\anaconda3\\lib\\site-packages)\n",
      "WARNING: Ignoring invalid distribution -atplotlib (c:\\users\\admin\\anaconda3\\lib\\site-packages)\n",
      "WARNING: Ignoring invalid distribution -atplotlib (c:\\users\\admin\\anaconda3\\lib\\site-packages)\n",
      "WARNING: Ignoring invalid distribution -atplotlib (c:\\users\\admin\\anaconda3\\lib\\site-packages)\n",
      "WARNING: Ignoring invalid distribution -atplotlib (c:\\users\\admin\\anaconda3\\lib\\site-packages)\n",
      "WARNING: Ignoring invalid distribution -atplotlib (c:\\users\\admin\\anaconda3\\lib\\site-packages)\n",
      "WARNING: You are using pip version 22.0.3; however, version 22.0.4 is available.\n",
      "You should consider upgrading via the 'c:\\users\\admin\\anaconda3\\python.exe -m pip install --upgrade pip' command.\n"
     ]
    },
    {
     "name": "stdout",
     "output_type": "stream",
     "text": [
      "Requirement already satisfied: profanity-filter in c:\\users\\admin\\anaconda3\\lib\\site-packages (1.3.3)\n",
      "Requirement already satisfied: cached-property<2.0,>=1.5 in c:\\users\\admin\\anaconda3\\lib\\site-packages (from profanity-filter) (1.5.2)\n",
      "Requirement already satisfied: poetry-version<0.2.0,>=0.1.3 in c:\\users\\admin\\anaconda3\\lib\\site-packages (from profanity-filter) (0.1.5)\n",
      "Requirement already satisfied: ruamel.yaml<0.16.0,>=0.15.89 in c:\\users\\admin\\anaconda3\\lib\\site-packages (from profanity-filter) (0.15.100)\n",
      "Requirement already satisfied: more-itertools<9.0,>=8.0 in c:\\users\\admin\\anaconda3\\lib\\site-packages (from profanity-filter) (8.7.0)\n",
      "Requirement already satisfied: pydantic<2.0,>=1.3 in c:\\users\\admin\\anaconda3\\lib\\site-packages (from profanity-filter) (1.9.0)\n",
      "Requirement already satisfied: redis<4.0,>=3.2 in c:\\users\\admin\\anaconda3\\lib\\site-packages (from profanity-filter) (3.5.3)\n",
      "Requirement already satisfied: spacy<3.0,>=2.0 in c:\\users\\admin\\anaconda3\\lib\\site-packages (from profanity-filter) (2.3.7)\n",
      "Requirement already satisfied: ordered-set<4.0,>=3.0 in c:\\users\\admin\\anaconda3\\lib\\site-packages (from profanity-filter) (3.1.1)\n",
      "Requirement already satisfied: ordered-set-stubs<0.2.0,>=0.1.3 in c:\\users\\admin\\anaconda3\\lib\\site-packages (from profanity-filter) (0.1.3)\n",
      "Requirement already satisfied: tomlkit<0.6.0,>=0.4.6 in c:\\users\\admin\\anaconda3\\lib\\site-packages (from poetry-version<0.2.0,>=0.1.3->profanity-filter) (0.5.11)\n",
      "Requirement already satisfied: typing-extensions>=3.7.4.3 in c:\\users\\admin\\anaconda3\\lib\\site-packages (from pydantic<2.0,>=1.3->profanity-filter) (3.7.4.3)\n",
      "Requirement already satisfied: preshed<3.1.0,>=3.0.2 in c:\\users\\admin\\anaconda3\\lib\\site-packages (from spacy<3.0,>=2.0->profanity-filter) (3.0.6)\n",
      "Requirement already satisfied: thinc<7.5.0,>=7.4.1 in c:\\users\\admin\\anaconda3\\lib\\site-packages (from spacy<3.0,>=2.0->profanity-filter) (7.4.5)\n",
      "Requirement already satisfied: wasabi<1.1.0,>=0.4.0 in c:\\users\\admin\\anaconda3\\lib\\site-packages (from spacy<3.0,>=2.0->profanity-filter) (0.9.1)\n",
      "Requirement already satisfied: murmurhash<1.1.0,>=0.28.0 in c:\\users\\admin\\anaconda3\\lib\\site-packages (from spacy<3.0,>=2.0->profanity-filter) (1.0.6)\n",
      "Requirement already satisfied: plac<1.2.0,>=0.9.6 in c:\\users\\admin\\anaconda3\\lib\\site-packages (from spacy<3.0,>=2.0->profanity-filter) (1.1.3)\n",
      "Requirement already satisfied: catalogue<1.1.0,>=0.0.7 in c:\\users\\admin\\anaconda3\\lib\\site-packages (from spacy<3.0,>=2.0->profanity-filter) (1.0.0)\n",
      "Requirement already satisfied: blis<0.8.0,>=0.4.0 in c:\\users\\admin\\anaconda3\\lib\\site-packages (from spacy<3.0,>=2.0->profanity-filter) (0.7.7)\n",
      "Requirement already satisfied: tqdm<5.0.0,>=4.38.0 in c:\\users\\admin\\anaconda3\\lib\\site-packages (from spacy<3.0,>=2.0->profanity-filter) (4.59.0)\n",
      "Requirement already satisfied: requests<3.0.0,>=2.13.0 in c:\\users\\admin\\anaconda3\\lib\\site-packages (from spacy<3.0,>=2.0->profanity-filter) (2.25.1)\n",
      "Requirement already satisfied: cymem<2.1.0,>=2.0.2 in c:\\users\\admin\\anaconda3\\lib\\site-packages (from spacy<3.0,>=2.0->profanity-filter) (2.0.6)\n",
      "Requirement already satisfied: numpy>=1.15.0 in c:\\users\\admin\\appdata\\roaming\\python\\python38\\site-packages (from spacy<3.0,>=2.0->profanity-filter) (1.22.2)\n",
      "Requirement already satisfied: setuptools in c:\\users\\admin\\anaconda3\\lib\\site-packages (from spacy<3.0,>=2.0->profanity-filter) (52.0.0.post20210125)\n",
      "Requirement already satisfied: srsly<1.1.0,>=1.0.2 in c:\\users\\admin\\anaconda3\\lib\\site-packages (from spacy<3.0,>=2.0->profanity-filter) (1.0.5)\n",
      "Requirement already satisfied: certifi>=2017.4.17 in c:\\users\\admin\\anaconda3\\lib\\site-packages (from requests<3.0.0,>=2.13.0->spacy<3.0,>=2.0->profanity-filter) (2020.12.5)\n",
      "Requirement already satisfied: urllib3<1.27,>=1.21.1 in c:\\users\\admin\\anaconda3\\lib\\site-packages (from requests<3.0.0,>=2.13.0->spacy<3.0,>=2.0->profanity-filter) (1.26.4)\n",
      "Requirement already satisfied: chardet<5,>=3.0.2 in c:\\users\\admin\\anaconda3\\lib\\site-packages (from requests<3.0.0,>=2.13.0->spacy<3.0,>=2.0->profanity-filter) (4.0.0)\n",
      "Requirement already satisfied: idna<3,>=2.5 in c:\\users\\admin\\anaconda3\\lib\\site-packages (from requests<3.0.0,>=2.13.0->spacy<3.0,>=2.0->profanity-filter) (2.10)\n"
     ]
    },
    {
     "name": "stderr",
     "output_type": "stream",
     "text": [
      "WARNING: Ignoring invalid distribution -atplotlib (c:\\users\\admin\\anaconda3\\lib\\site-packages)\n",
      "WARNING: Ignoring invalid distribution -atplotlib (c:\\users\\admin\\anaconda3\\lib\\site-packages)\n",
      "WARNING: Ignoring invalid distribution -atplotlib (c:\\users\\admin\\anaconda3\\lib\\site-packages)\n",
      "WARNING: Ignoring invalid distribution -atplotlib (c:\\users\\admin\\anaconda3\\lib\\site-packages)\n",
      "WARNING: Ignoring invalid distribution -atplotlib (c:\\users\\admin\\anaconda3\\lib\\site-packages)\n",
      "WARNING: Ignoring invalid distribution -atplotlib (c:\\users\\admin\\anaconda3\\lib\\site-packages)\n",
      "WARNING: You are using pip version 22.0.3; however, version 22.0.4 is available.\n",
      "You should consider upgrading via the 'c:\\users\\admin\\anaconda3\\python.exe -m pip install --upgrade pip' command.\n"
     ]
    }
   ],
   "source": [
    "!pip install profanity-filter"
   ]
  },
  {
   "cell_type": "code",
   "execution_count": 207,
   "id": "23feea73",
   "metadata": {},
   "outputs": [],
   "source": [
    "blm = pd.read_csv('cleaned_blm.csv', index_col = 0)\n",
    "blm = blm.dropna()\n",
    "clm = pd.read_csv('cleaned_bluelm.csv', index_col = 0)\n",
    "clm = clm.dropna()"
   ]
  },
  {
   "cell_type": "code",
   "execution_count": 208,
   "id": "fd05dd9d",
   "metadata": {},
   "outputs": [
    {
     "name": "stdout",
     "output_type": "stream",
     "text": [
      "blm shape: (11126, 8)\n",
      "clm shape: (10375, 8)\n"
     ]
    }
   ],
   "source": [
    "print('blm shape:',blm.shape)\n",
    "print('clm shape:',clm.shape)"
   ]
  },
  {
   "cell_type": "code",
   "execution_count": 210,
   "id": "a448b5ae",
   "metadata": {},
   "outputs": [],
   "source": [
    "# fetching swear words for both datasets\n",
    "\n",
    "nlp = spacy.load('en')\n",
    "profanity_filter = ProfanityFilter(nlps={'en': nlp})  # reuse spacy Language (optional)\n",
    "nlp.add_pipe(profanity_filter.spacy_component, last=True)\n",
    "\n",
    "\n",
    "\n",
    "number_profanity = []\n",
    "word_dict = {}\n",
    "\n",
    "for row in blm.iterrows():\n",
    "    tweet = row[1]['LemmatizedTweet'].lstrip()\n",
    "    doc = nlp(tweet)\n",
    "    word = []\n",
    "    swear =[]\n",
    "    for token in doc:\n",
    "        word.append(token._.is_profane)\n",
    "        swear.append(token._.original_profane_word)\n",
    "    \n",
    "    number_profanity.append(sum(np.array(word)))\n",
    "    swear = list(filter(None, swear))\n",
    "    \n",
    "    for w in swear:\n",
    "        if w in word_dict.keys():\n",
    "            word_dict[w] =+1\n",
    "        else:\n",
    "            word_dict[w] = 1\n"
   ]
  },
  {
   "cell_type": "code",
   "execution_count": 212,
   "id": "97ffdccd",
   "metadata": {},
   "outputs": [],
   "source": [
    "blm['is_profane_count'] = number_profanity\n",
    "blm['is_profane'] = blm['is_profane_count'].apply(lambda x: 1 if x>=1 else 0)\n",
    "\n",
    "# get proportion \n",
    "\n",
    "p_blm = blm.is_profane.sum()/blm.shape[0]"
   ]
  },
  {
   "cell_type": "code",
   "execution_count": 219,
   "id": "5e47ff3f",
   "metadata": {},
   "outputs": [
    {
     "data": {
      "text/plain": [
       "0    10553\n",
       "1      573\n",
       "Name: is_profane, dtype: int64"
      ]
     },
     "execution_count": 219,
     "metadata": {},
     "output_type": "execute_result"
    }
   ],
   "source": [
    "blm['is_profane'].value_counts() # we can perform statistical inference because n>10 and n(1-P)>10"
   ]
  },
  {
   "cell_type": "code",
   "execution_count": 220,
   "id": "49768cd0",
   "metadata": {},
   "outputs": [],
   "source": [
    "# fetching swear words for both datasets\n",
    "\n",
    "nlp = spacy.load('en')\n",
    "profanity_filter = ProfanityFilter(nlps={'en': nlp})  # reuse spacy Language (optional)\n",
    "nlp.add_pipe(profanity_filter.spacy_component, last=True)\n",
    "\n",
    "\n",
    "\n",
    "number_profanity_clm = []\n",
    "word_dict_clm = {}\n",
    "\n",
    "for row in clm.iterrows():\n",
    "    tweet = row[1]['LemmatizedTweet'].lstrip()\n",
    "    doc = nlp(tweet)\n",
    "    word = []\n",
    "    swear =[]\n",
    "    for token in doc:\n",
    "        word.append(token._.is_profane)\n",
    "        swear.append(token._.original_profane_word)\n",
    "    \n",
    "    number_profanity_clm.append(sum(np.array(word)))\n",
    "    \n",
    "    swear = list(filter(None, swear))\n",
    "    \n",
    "    for w in swear:\n",
    "        if w in word_dict_clm.keys():\n",
    "            word_dict_clm[w] =+1\n",
    "        else:\n",
    "            word_dict_clm[w] = 1"
   ]
  },
  {
   "cell_type": "code",
   "execution_count": 223,
   "id": "ebd1c846",
   "metadata": {},
   "outputs": [],
   "source": [
    "clm['is_profane_count'] = number_profanity_clm\n",
    "clm['is_profane'] = clm['is_profane_count'].apply(lambda x: 1 if x>=1 else 0)\n",
    "\n",
    "# get proportion \n",
    "\n",
    "p_clm = clm.is_profane.sum()/clm.shape[0]"
   ]
  },
  {
   "cell_type": "code",
   "execution_count": 224,
   "id": "3ee81d05",
   "metadata": {},
   "outputs": [
    {
     "data": {
      "text/plain": [
       "0    9703\n",
       "1     672\n",
       "Name: is_profane, dtype: int64"
      ]
     },
     "execution_count": 224,
     "metadata": {},
     "output_type": "execute_result"
    }
   ],
   "source": [
    "clm['is_profane'].value_counts() # we can perform statistical inference because n>10 and n(1-P)>10"
   ]
  },
  {
   "cell_type": "code",
   "execution_count": 225,
   "id": "7ad113d5",
   "metadata": {},
   "outputs": [
    {
     "data": {
      "text/plain": [
       "0.06477108433734939"
      ]
     },
     "execution_count": 225,
     "metadata": {},
     "output_type": "execute_result"
    }
   ],
   "source": [
    "p_clm"
   ]
  },
  {
   "cell_type": "markdown",
   "id": "eca5fabe",
   "metadata": {},
   "source": [
    "# statistical inference"
   ]
  },
  {
   "cell_type": "code",
   "execution_count": 229,
   "id": "7000ac96",
   "metadata": {},
   "outputs": [],
   "source": [
    "from statsmodels.stats.proportion import test_proportions_2indep\n",
    "\n",
    "count1 = clm.is_profane.sum()\n",
    "nobs1 = clm.shape[0]\n",
    "count2 = blm.is_profane.sum()\n",
    "nobs2=  blm.shape[0]\n"
   ]
  },
  {
   "cell_type": "code",
   "execution_count": 230,
   "id": "a59d2022",
   "metadata": {},
   "outputs": [],
   "source": [
    "stat, pval = test_proportions_2indep(count1, nobs1, count2, nobs2, compare= 'diff', alternative='larger')"
   ]
  },
  {
   "cell_type": "code",
   "execution_count": 231,
   "id": "92f2f7b5",
   "metadata": {},
   "outputs": [
    {
     "name": "stdout",
     "output_type": "stream",
     "text": [
      "statistics: 4.147778231788255\n",
      "pvalue: 1.678586775843119e-05\n"
     ]
    }
   ],
   "source": [
    "print('statistics:', stat)\n",
    "print('pvalue:', pval) # statistically significant, blue lives matter swear more than black lives matter at a 5% level"
   ]
  },
  {
   "cell_type": "markdown",
   "id": "e0d70aa2",
   "metadata": {},
   "source": [
    "# Comparison of swear words"
   ]
  },
  {
   "cell_type": "code",
   "execution_count": 244,
   "id": "2ce87a6f",
   "metadata": {},
   "outputs": [],
   "source": [
    "swear_words_blm = blm[blm['is_profane_count']>=1].LemmatizedTweet"
   ]
  },
  {
   "cell_type": "code",
   "execution_count": 265,
   "id": "dd9b5d22",
   "metadata": {},
   "outputs": [],
   "source": [
    "dictionnary_blm = {}\n",
    "\n",
    "for tweet in swear_words_blm:\n",
    "    doc = nlp(tweet)\n",
    "    for token in doc:\n",
    "        if token._.is_profane == True:\n",
    "            if token._.original_profane_word in dictionnary_blm:\n",
    "                dictionnary_blm[token._.original_profane_word] += 1\n",
    "            else:\n",
    "                dictionnary_blm[token._.original_profane_word] = 1"
   ]
  },
  {
   "cell_type": "code",
   "execution_count": 268,
   "id": "2daa593e",
   "metadata": {},
   "outputs": [],
   "source": [
    "swear_words_clm = clm[clm['is_profane_count']>=1].LemmatizedTweet\n",
    "\n",
    "dictionnary_clm = {}\n",
    "\n",
    "for tweet in swear_words_clm:\n",
    "    doc = nlp(tweet)\n",
    "    for token in doc:\n",
    "        if token._.is_profane == True:\n",
    "            if token._.original_profane_word in dictionnary_clm:\n",
    "                dictionnary_clm[token._.original_profane_word] += 1\n",
    "            else:\n",
    "                dictionnary_clm[token._.original_profane_word] = 1"
   ]
  },
  {
   "cell_type": "code",
   "execution_count": 289,
   "id": "b4b021b2",
   "metadata": {},
   "outputs": [],
   "source": [
    "clm_count = pd.DataFrame(dictionnary_clm, index=['Count']).T.reset_index().rename(columns={'index':'Word'}).sort_values(by='Count',ascending=False).reset_index(drop=True).loc[:9]\n",
    "blm_count = pd.DataFrame(dictionnary_blm, index=['Count']).T.reset_index().rename(columns={'index':'Word'}).sort_values(by='Count',ascending=False).reset_index(drop=True).loc[:9]"
   ]
  },
  {
   "cell_type": "code",
   "execution_count": 291,
   "id": "47a37639",
   "metadata": {},
   "outputs": [
    {
     "data": {
      "text/html": [
       "<div>\n",
       "<style scoped>\n",
       "    .dataframe tbody tr th:only-of-type {\n",
       "        vertical-align: middle;\n",
       "    }\n",
       "\n",
       "    .dataframe tbody tr th {\n",
       "        vertical-align: top;\n",
       "    }\n",
       "\n",
       "    .dataframe thead th {\n",
       "        text-align: right;\n",
       "    }\n",
       "</style>\n",
       "<table border=\"1\" class=\"dataframe\">\n",
       "  <thead>\n",
       "    <tr style=\"text-align: right;\">\n",
       "      <th></th>\n",
       "      <th>Word</th>\n",
       "      <th>Count</th>\n",
       "    </tr>\n",
       "  </thead>\n",
       "  <tbody>\n",
       "    <tr>\n",
       "      <th>0</th>\n",
       "      <td>fuck</td>\n",
       "      <td>212</td>\n",
       "    </tr>\n",
       "    <tr>\n",
       "      <th>1</th>\n",
       "      <td>shit</td>\n",
       "      <td>109</td>\n",
       "    </tr>\n",
       "    <tr>\n",
       "      <th>2</th>\n",
       "      <td>damn</td>\n",
       "      <td>64</td>\n",
       "    </tr>\n",
       "    <tr>\n",
       "      <th>3</th>\n",
       "      <td>hell</td>\n",
       "      <td>47</td>\n",
       "    </tr>\n",
       "    <tr>\n",
       "      <th>4</th>\n",
       "      <td>bullshit</td>\n",
       "      <td>36</td>\n",
       "    </tr>\n",
       "    <tr>\n",
       "      <th>5</th>\n",
       "      <td>piss</td>\n",
       "      <td>23</td>\n",
       "    </tr>\n",
       "    <tr>\n",
       "      <th>6</th>\n",
       "      <td>bitch</td>\n",
       "      <td>20</td>\n",
       "    </tr>\n",
       "    <tr>\n",
       "      <th>7</th>\n",
       "      <td>nazi</td>\n",
       "      <td>19</td>\n",
       "    </tr>\n",
       "    <tr>\n",
       "      <th>8</th>\n",
       "      <td>gay</td>\n",
       "      <td>16</td>\n",
       "    </tr>\n",
       "    <tr>\n",
       "      <th>9</th>\n",
       "      <td>crap</td>\n",
       "      <td>15</td>\n",
       "    </tr>\n",
       "  </tbody>\n",
       "</table>\n",
       "</div>"
      ],
      "text/plain": [
       "       Word  Count\n",
       "0      fuck    212\n",
       "1      shit    109\n",
       "2      damn     64\n",
       "3      hell     47\n",
       "4  bullshit     36\n",
       "5      piss     23\n",
       "6     bitch     20\n",
       "7      nazi     19\n",
       "8       gay     16\n",
       "9      crap     15"
      ]
     },
     "execution_count": 291,
     "metadata": {},
     "output_type": "execute_result"
    }
   ],
   "source": [
    "blm_count"
   ]
  },
  {
   "cell_type": "code",
   "execution_count": 321,
   "id": "8a58fb5e",
   "metadata": {},
   "outputs": [
    {
     "data": {
      "image/png": "[encoded data removed]",
      "text/plain": [
       "<Figure size 864x576 with 1 Axes>"
      ]
     },
     "metadata": {},
     "output_type": "display_data"
    }
   ],
   "source": [
    "# Plot horizontal bar graph\n",
    "plt.style.use('ggplot')\n",
    "fig, ax = plt.subplots(figsize=(12, 8))\n",
    "clm_count.sort_values(by='Count').plot.barh(x='Word',\n",
    "                      y='Count',\n",
    "                      ax=ax,\n",
    "                      color=\"#2596be\")\n",
    "plt.ylabel('')\n",
    "plt.legend('')\n",
    "ax.set_title(\"Most common Swear Words (Blue Lives Matter)\")\n",
    "plt.show()"
   ]
  },
  {
   "cell_type": "code",
   "execution_count": 320,
   "id": "caafd460",
   "metadata": {},
   "outputs": [
    {
     "data": {
      "image/png": "[encoded data removed]",
      "text/plain": [
       "<Figure size 864x576 with 1 Axes>"
      ]
     },
     "metadata": {},
     "output_type": "display_data"
    }
   ],
   "source": [
    "# Plot horizontal bar graph\n",
    "fig, ax = plt.subplots(figsize=(12, 8))\n",
    "\n",
    "blm_count.sort_values(by='Count').plot.barh(x='Word',\n",
    "                      y='Count',\n",
    "                      ax=ax,\n",
    "                      color=\"#e34c34\")\n",
    "plt.ylabel('')\n",
    "plt.legend('')\n",
    "ax.set_title(\"Most common Swear Words (Black Lives Matter)\")\n",
    "plt.show()"
   ]
  }
 ],
 "metadata": {
  "kernelspec": {
   "display_name": "Python 3",
   "language": "python",
   "name": "python3"
  },
  "language_info": {
   "codemirror_mode": {
    "name": "ipython",
    "version": 3
   },
   "file_extension": ".py",
   "mimetype": "text/x-python",
   "name": "python",
   "nbconvert_exporter": "python",
   "pygments_lexer": "ipython3",
   "version": "3.8.8"
  }
 },
 "nbformat": 4,
 "nbformat_minor": 5
}
