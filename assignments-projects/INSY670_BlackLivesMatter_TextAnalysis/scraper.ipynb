{
 "cells": [
  {
   "cell_type": "code",
   "execution_count": 1,
   "id": "02f1f8fe",
   "metadata": {},
   "outputs": [],
   "source": [
    "import snscrape.modules.twitter as sntwitter\n",
    "import pandas as pd\n",
    "import numpy as np"
   ]
  },
  {
   "cell_type": "code",
   "execution_count": 4,
   "id": "59a114ec",
   "metadata": {},
   "outputs": [],
   "source": [
    "# extracting tweets\n",
    "key_words = [\"#BlackLivesMatter\", \"#BlueLivesMatter\"] # Declare the key word used to search tweets\n",
    "user_name = \"@mcgillu\" # Declare a user name used to search tweets\n",
    "date_ranges = [[\"2020-04-24\", \"2020-05-24\"], [\"2020-05-25\", \"2020-06-08\"], [\"2020-06-09\", \"2020-06-22\"]]\n",
    "count = 5000 # The maximum number of tweets\n",
    "tweets_list_keyword = [] # A list used to store the returned results for keyword search\n",
    "tweets_list_user = [] # A list used to store the retuned results for user search"
   ]
  },
  {
   "cell_type": "code",
   "execution_count": 5,
   "id": "8d381f48",
   "metadata": {},
   "outputs": [
    {
     "name": "stdout",
     "output_type": "stream",
     "text": [
      "Scraping data for keyword: #BlackLivesMatter\n",
      "Scraped data have been exported to the csv file\n",
      "Scraping data for keyword: #BlueLivesMatter\n",
      "Scraped data have been exported to the csv file\n",
      "Scraping data for keyword: #BlackLivesMatter\n",
      "Scraped data have been exported to the csv file\n",
      "Scraping data for keyword: #BlueLivesMatter\n",
      "Scraped data have been exported to the csv file\n",
      "Scraping data for keyword: #BlackLivesMatter\n",
      "Scraped data have been exported to the csv file\n",
      "Scraping data for keyword: #BlueLivesMatter\n",
      "Scraped data have been exported to the csv file\n"
     ]
    }
   ],
   "source": [
    "for date_range in date_ranges:\n",
    "    from_date, end_date = date_range\n",
    "    for key_word in key_words:\n",
    "        command_keyword = key_word+' since:'+from_date+' until:'+end_date # Define a string command for Scraper Api\n",
    "        print(\"Scraping data for keyword:\",key_word)\n",
    "        for i,tweet in enumerate(sntwitter.TwitterSearchScraper(command_keyword).get_items()):\n",
    "            if i+1>count:\n",
    "                break;\n",
    "            if tweet.mentionedUsers:\n",
    "                mention_tweet=\", \".join([i.username for i in tweet.mentionedUsers])\n",
    "            else:\n",
    "                mention_tweet=np.nan\n",
    "            tweets_list_keyword.append([tweet.date,tweet.id, tweet.content, tweet.user.username, mention_tweet, tweet.user.followersCount,tweet.user.listedCount]) # Append returned results to list\n",
    "            \n",
    "\n",
    "         # Create a dataframe from the tweets list above \n",
    "        tweets_df_keyword = pd.DataFrame(tweets_list_keyword, columns=['Datetime','Tweet Id', 'Text', 'Username', 'user_mention', 'followersCount', 'listedCount'])\n",
    "        tweets_df_keyword.to_csv(\"tweets_keywordsfrom_{}_to_{}_{}.csv\".format(from_date, end_date, key_word),index=False) # Export to a csv file\n",
    "        tweets_list_keyword = []\n",
    "        print(\"Scraped data have been exported to the csv file\")\n",
    "        \n",
    "        "
   ]
  },
  {
   "cell_type": "code",
   "execution_count": null,
   "id": "c8bc367c",
   "metadata": {},
   "outputs": [],
   "source": []
  }
 ],
 "metadata": {
  "kernelspec": {
   "display_name": "Python 3 (ipykernel)",
   "language": "python",
   "name": "python3"
  },
  "language_info": {
   "codemirror_mode": {
    "name": "ipython",
    "version": 3
   },
   "file_extension": ".py",
   "mimetype": "text/x-python",
   "name": "python",
   "nbconvert_exporter": "python",
   "pygments_lexer": "ipython3",
   "version": "3.8.8"
  }
 },
 "nbformat": 4,
 "nbformat_minor": 5
}
