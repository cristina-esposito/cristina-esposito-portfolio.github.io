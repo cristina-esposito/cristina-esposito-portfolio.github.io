{
 "cells": [
  {
   "cell_type": "markdown",
   "id": "3dedc949-4123-492d-b3dc-9d389836acb9",
   "metadata": {},
   "source": [
    "# Identifying Atributte + Brand Association"
   ]
  },
  {
   "cell_type": "markdown",
   "id": "5b9d5c18-a754-4082-be3c-c670e4e8ffe3",
   "metadata": {},
   "source": [
    "## Set up"
   ]
  },
  {
   "cell_type": "markdown",
   "id": "01e3f596-9335-45f6-817c-de06cfa1ba1e",
   "metadata": {},
   "source": [
    "### Libraries"
   ]
  },
  {
   "cell_type": "code",
   "execution_count": 1,
   "id": "5ddd7168-7185-4c63-bc5d-185465097e17",
   "metadata": {},
   "outputs": [],
   "source": [
    "import pandas as pd\n",
    "import numpy as np\n",
    "\n",
    "import nltk\n",
    "from nltk.stem import WordNetLemmatizer\n",
    "from nltk.tokenize import word_tokenize, sent_tokenize\n",
    "from nltk.corpus import stopwords\n",
    "\n",
    "import string"
   ]
  },
  {
   "cell_type": "code",
   "execution_count": 54,
   "id": "4e02411e",
   "metadata": {},
   "outputs": [],
   "source": [
    "import matplotlib.pyplot as plt\n",
    "import seaborn as sns\n",
    "plt.rcParams['figure.figsize'] = [8, 8]\n",
    "\n",
    "#hide all warnings\n",
    "import warnings\n",
    "warnings.filterwarnings('ignore')"
   ]
  },
  {
   "cell_type": "code",
   "execution_count": null,
   "id": "61149f07-54aa-41e1-aad3-936e493b2086",
   "metadata": {},
   "outputs": [],
   "source": [
    "# Only run on first iteration to download \"popular\" packages#\n",
    "#nltk.download()"
   ]
  },
  {
   "cell_type": "markdown",
   "id": "d8dfe18f-85bd-46f9-807e-0958f82035be",
   "metadata": {},
   "source": [
    "### Directories"
   ]
  },
  {
   "cell_type": "code",
   "execution_count": 64,
   "id": "e8071763-8350-4108-805a-2b716fa32dea",
   "metadata": {},
   "outputs": [],
   "source": [
    "data_dir = \"../data/\"\n",
    "plots_dir = \"../plots/\""
   ]
  },
  {
   "cell_type": "markdown",
   "id": "65867675-4e06-4d04-8983-14bc4d8d6ecd",
   "metadata": {},
   "source": [
    "### Data"
   ]
  },
  {
   "cell_type": "code",
   "execution_count": 4,
   "id": "437afa5b-6c1c-4b03-8aac-ded933f40b7d",
   "metadata": {},
   "outputs": [
    {
     "data": {
      "text/plain": [
       "'curious to see how toyota sales are going to be over the next few months. with the bad news on crash data i will be interested if consumers even care about crash tests. my prediction is the honda honda will move to number 1, the ford will be 2, toyota 3, nissan 4, malbu 5 \\n0  '"
      ]
     },
     "execution_count": 4,
     "metadata": {},
     "output_type": "execute_result"
    }
   ],
   "source": [
    "comments = pd.read_csv(data_dir+\"branded_comments.csv\")\n",
    "comments.head()\n",
    "comments.review_text[0]"
   ]
  },
  {
   "cell_type": "markdown",
   "id": "6b42ab48-7098-47a3-94eb-ad655f220882",
   "metadata": {},
   "source": [
    "## Identify & Group Attributes"
   ]
  },
  {
   "cell_type": "markdown",
   "id": "b349522b-ef93-4f14-9e07-35cd0d792a41",
   "metadata": {},
   "source": [
    "### Tokenization + Position Tagging"
   ]
  },
  {
   "cell_type": "code",
   "execution_count": 5,
   "id": "3879389c-528d-408a-9d8c-71e61a1ad878",
   "metadata": {},
   "outputs": [
    {
     "data": {
      "text/html": [
       "<div>\n",
       "<style scoped>\n",
       "    .dataframe tbody tr th:only-of-type {\n",
       "        vertical-align: middle;\n",
       "    }\n",
       "\n",
       "    .dataframe tbody tr th {\n",
       "        vertical-align: top;\n",
       "    }\n",
       "\n",
       "    .dataframe thead th {\n",
       "        text-align: right;\n",
       "    }\n",
       "</style>\n",
       "<table border=\"1\" class=\"dataframe\">\n",
       "  <thead>\n",
       "    <tr style=\"text-align: right;\">\n",
       "      <th></th>\n",
       "      <th>Unnamed: 0</th>\n",
       "      <th>user_name</th>\n",
       "      <th>date</th>\n",
       "      <th>review_text</th>\n",
       "      <th>year</th>\n",
       "    </tr>\n",
       "  </thead>\n",
       "  <tbody>\n",
       "    <tr>\n",
       "      <th>0</th>\n",
       "      <td>16928</td>\n",
       "      <td>cannon3</td>\n",
       "      <td>2013-01-01 01:01:25+00:00</td>\n",
       "      <td>curious to see how toyota sales are going to b...</td>\n",
       "      <td>2013</td>\n",
       "    </tr>\n",
       "    <tr>\n",
       "      <th>1</th>\n",
       "      <td>16929</td>\n",
       "      <td>[Deleted User]</td>\n",
       "      <td>2013-01-01 01:34:33+00:00</td>\n",
       "      <td>i don't think there is any way that the ford c...</td>\n",
       "      <td>2013</td>\n",
       "    </tr>\n",
       "    <tr>\n",
       "      <th>2</th>\n",
       "      <td>16930</td>\n",
       "      <td>ajr1775</td>\n",
       "      <td>2013-01-02 00:27:03+00:00</td>\n",
       "      <td>the car is as advertised. picked it up last ni...</td>\n",
       "      <td>2013</td>\n",
       "    </tr>\n",
       "    <tr>\n",
       "      <th>3</th>\n",
       "      <td>16931</td>\n",
       "      <td>stickguy</td>\n",
       "      <td>2013-01-02 00:57:32+00:00</td>\n",
       "      <td>sounds like a good deal. i just described it t...</td>\n",
       "      <td>2013</td>\n",
       "    </tr>\n",
       "    <tr>\n",
       "      <th>4</th>\n",
       "      <td>16932</td>\n",
       "      <td>ajr1775</td>\n",
       "      <td>2013-01-02 01:20:09+00:00</td>\n",
       "      <td>that rate i got was based on 12k miles per yea...</td>\n",
       "      <td>2013</td>\n",
       "    </tr>\n",
       "  </tbody>\n",
       "</table>\n",
       "</div>"
      ],
      "text/plain": [
       "   Unnamed: 0       user_name                       date  \\\n",
       "0       16928         cannon3  2013-01-01 01:01:25+00:00   \n",
       "1       16929  [Deleted User]  2013-01-01 01:34:33+00:00   \n",
       "2       16930         ajr1775  2013-01-02 00:27:03+00:00   \n",
       "3       16931        stickguy  2013-01-02 00:57:32+00:00   \n",
       "4       16932         ajr1775  2013-01-02 01:20:09+00:00   \n",
       "\n",
       "                                         review_text  year  \n",
       "0  curious to see how toyota sales are going to b...  2013  \n",
       "1  i don't think there is any way that the ford c...  2013  \n",
       "2  the car is as advertised. picked it up last ni...  2013  \n",
       "3  sounds like a good deal. i just described it t...  2013  \n",
       "4  that rate i got was based on 12k miles per yea...  2013  "
      ]
     },
     "execution_count": 5,
     "metadata": {},
     "output_type": "execute_result"
    }
   ],
   "source": [
    "comments.head()"
   ]
  },
  {
   "cell_type": "code",
   "execution_count": 9,
   "id": "6c25e8e3-bd74-49ff-aa5c-9f13e26f93df",
   "metadata": {},
   "outputs": [],
   "source": [
    "# function to convert pos tags into compatible wordnet tags for lemmatization\n",
    "def get_wordnet_pos(treebank_tag):\n",
    "\n",
    "    if treebank_tag.startswith('J'):\n",
    "        return 'a'\n",
    "    elif treebank_tag.startswith('V'):\n",
    "        return 'v'\n",
    "    elif treebank_tag.startswith('N'):\n",
    "        return 'n'\n",
    "    elif treebank_tag.startswith('R'):\n",
    "        return 'r'\n",
    "    else:\n",
    "        return 'n'"
   ]
  },
  {
   "cell_type": "code",
   "execution_count": 6,
   "id": "21e41e21-1e65-4258-a7e4-3c635d561f00",
   "metadata": {},
   "outputs": [],
   "source": [
    "# list of tokens to remove after pos tagging and tokenisation to speed up lemmetization\n",
    "rem_list = list(string.digits) + list(string.punctuation)+ stopwords.words('english')"
   ]
  },
  {
   "cell_type": "code",
   "execution_count": 7,
   "id": "8b01aeb7-0fee-4720-8333-6d9bdd5be6be",
   "metadata": {},
   "outputs": [
    {
     "data": {
      "text/plain": [
       "0    [(curious, JJ), (see, VB), (toyota, JJ), (sale...\n",
       "1    [(n't, RB), (think, VB), (way, NN), (ford, NN)...\n",
       "2    [(car, NN), (advertised, JJ), (picked, VBD), (...\n",
       "3    [(sounds, NNS), (like, IN), (good, JJ), (deal,...\n",
       "4    [(rate, NN), (got, VBD), (based, VBN), (12k, C...\n",
       "dtype: object"
      ]
     },
     "execution_count": 7,
     "metadata": {},
     "output_type": "execute_result"
    }
   ],
   "source": [
    "tokenized_comments = []\n",
    "\n",
    "for comment in comments.review_text:\n",
    "    words = word_tokenize(comment) #tokenize words\n",
    "    pos_tags = pd.Series(nltk.pos_tag(words)) #add pos tags\n",
    "    keep_in = [i for i in range(len(words)) if not words[i] in rem_list] #index of tokens to keep in comment\n",
    "    pos_tags= pos_tags[keep_in] # filter out unwanted words from comment\n",
    "    tokenized_comments.append(pos_tags.values) # store comments in array\n",
    "\n",
    "tokenized_comments = pd.Series(tokenized_comments, index=comments.index)\n",
    "tokenized_comments.head()"
   ]
  },
  {
   "cell_type": "markdown",
   "id": "831a5877-2fd3-487d-b57f-189940374ca9",
   "metadata": {},
   "source": [
    "### Lemmetization"
   ]
  },
  {
   "cell_type": "code",
   "execution_count": 10,
   "id": "943159fe-b5fa-495a-b59d-6c45935bbc32",
   "metadata": {},
   "outputs": [],
   "source": [
    "wl  = WordNetLemmatizer()\n",
    "lem_count = pd.DataFrame(index = comments.index)\n",
    "\n",
    "for index, comment in tokenized_comments.iteritems():\n",
    "    for word, pos in comment:\n",
    "        pos = get_wordnet_pos(pos) # convert to compatible pos tag for lemmetization\n",
    "        lem_word = wl.lemmatize(word, pos=pos) # lemmatize word\n",
    "        if lem_word not in lem_count.columns:\n",
    "            # create new key for lemmatized word and count array based on comment number\n",
    "            lem_count.loc[:,lem_word] = 0\n",
    "        lem_count.loc[index, lem_word]=1 # binary count of lemmtized word in comment"
   ]
  },
  {
   "cell_type": "code",
   "execution_count": 11,
   "id": "fae9b878-568d-4253-b301-182a9acb36b1",
   "metadata": {},
   "outputs": [],
   "source": [
    "brands = pd.read_csv(data_dir+\"clean_model_map.csv\")\n",
    "brands = brands.brand.unique()\n",
    "brands = [brand for brand in brands if brand in lem_count.columns] # index to seperate brands from lemmatized words"
   ]
  },
  {
   "cell_type": "code",
   "execution_count": 12,
   "id": "0a63de12-8c3e-42ea-b062-2fc886354e58",
   "metadata": {},
   "outputs": [
    {
     "data": {
      "text/html": [
       "<div>\n",
       "<style scoped>\n",
       "    .dataframe tbody tr th:only-of-type {\n",
       "        vertical-align: middle;\n",
       "    }\n",
       "\n",
       "    .dataframe tbody tr th {\n",
       "        vertical-align: top;\n",
       "    }\n",
       "\n",
       "    .dataframe thead th {\n",
       "        text-align: right;\n",
       "    }\n",
       "</style>\n",
       "<table border=\"1\" class=\"dataframe\">\n",
       "  <thead>\n",
       "    <tr style=\"text-align: right;\">\n",
       "      <th></th>\n",
       "      <th>acura</th>\n",
       "      <th>audi</th>\n",
       "      <th>bmw</th>\n",
       "      <th>buick</th>\n",
       "      <th>cadillac</th>\n",
       "      <th>chevrolet</th>\n",
       "      <th>chrysler</th>\n",
       "      <th>dodge</th>\n",
       "      <th>ford</th>\n",
       "      <th>honda</th>\n",
       "      <th>...</th>\n",
       "      <th>fisker</th>\n",
       "      <th>maybach</th>\n",
       "      <th>saab</th>\n",
       "      <th>hummer</th>\n",
       "      <th>isuzu</th>\n",
       "      <th>oldsmobile</th>\n",
       "      <th>plymouth</th>\n",
       "      <th>eagle</th>\n",
       "      <th>geo</th>\n",
       "      <th>seat</th>\n",
       "    </tr>\n",
       "  </thead>\n",
       "  <tbody>\n",
       "    <tr>\n",
       "      <th>0</th>\n",
       "      <td>0</td>\n",
       "      <td>0</td>\n",
       "      <td>0</td>\n",
       "      <td>0</td>\n",
       "      <td>0</td>\n",
       "      <td>0</td>\n",
       "      <td>0</td>\n",
       "      <td>0</td>\n",
       "      <td>1</td>\n",
       "      <td>1</td>\n",
       "      <td>...</td>\n",
       "      <td>0</td>\n",
       "      <td>0</td>\n",
       "      <td>0</td>\n",
       "      <td>0</td>\n",
       "      <td>0</td>\n",
       "      <td>0</td>\n",
       "      <td>0</td>\n",
       "      <td>0</td>\n",
       "      <td>0</td>\n",
       "      <td>0</td>\n",
       "    </tr>\n",
       "    <tr>\n",
       "      <th>1</th>\n",
       "      <td>0</td>\n",
       "      <td>0</td>\n",
       "      <td>0</td>\n",
       "      <td>0</td>\n",
       "      <td>0</td>\n",
       "      <td>0</td>\n",
       "      <td>0</td>\n",
       "      <td>0</td>\n",
       "      <td>1</td>\n",
       "      <td>0</td>\n",
       "      <td>...</td>\n",
       "      <td>0</td>\n",
       "      <td>0</td>\n",
       "      <td>0</td>\n",
       "      <td>0</td>\n",
       "      <td>0</td>\n",
       "      <td>0</td>\n",
       "      <td>0</td>\n",
       "      <td>0</td>\n",
       "      <td>0</td>\n",
       "      <td>0</td>\n",
       "    </tr>\n",
       "    <tr>\n",
       "      <th>2</th>\n",
       "      <td>0</td>\n",
       "      <td>0</td>\n",
       "      <td>0</td>\n",
       "      <td>0</td>\n",
       "      <td>0</td>\n",
       "      <td>0</td>\n",
       "      <td>0</td>\n",
       "      <td>0</td>\n",
       "      <td>1</td>\n",
       "      <td>1</td>\n",
       "      <td>...</td>\n",
       "      <td>0</td>\n",
       "      <td>0</td>\n",
       "      <td>0</td>\n",
       "      <td>0</td>\n",
       "      <td>0</td>\n",
       "      <td>0</td>\n",
       "      <td>0</td>\n",
       "      <td>0</td>\n",
       "      <td>0</td>\n",
       "      <td>1</td>\n",
       "    </tr>\n",
       "    <tr>\n",
       "      <th>3</th>\n",
       "      <td>1</td>\n",
       "      <td>0</td>\n",
       "      <td>0</td>\n",
       "      <td>0</td>\n",
       "      <td>0</td>\n",
       "      <td>0</td>\n",
       "      <td>0</td>\n",
       "      <td>0</td>\n",
       "      <td>1</td>\n",
       "      <td>0</td>\n",
       "      <td>...</td>\n",
       "      <td>0</td>\n",
       "      <td>0</td>\n",
       "      <td>0</td>\n",
       "      <td>0</td>\n",
       "      <td>0</td>\n",
       "      <td>0</td>\n",
       "      <td>0</td>\n",
       "      <td>0</td>\n",
       "      <td>0</td>\n",
       "      <td>0</td>\n",
       "    </tr>\n",
       "    <tr>\n",
       "      <th>4</th>\n",
       "      <td>0</td>\n",
       "      <td>0</td>\n",
       "      <td>0</td>\n",
       "      <td>0</td>\n",
       "      <td>0</td>\n",
       "      <td>0</td>\n",
       "      <td>0</td>\n",
       "      <td>0</td>\n",
       "      <td>0</td>\n",
       "      <td>0</td>\n",
       "      <td>...</td>\n",
       "      <td>0</td>\n",
       "      <td>0</td>\n",
       "      <td>0</td>\n",
       "      <td>0</td>\n",
       "      <td>0</td>\n",
       "      <td>0</td>\n",
       "      <td>0</td>\n",
       "      <td>0</td>\n",
       "      <td>0</td>\n",
       "      <td>0</td>\n",
       "    </tr>\n",
       "  </tbody>\n",
       "</table>\n",
       "<p>5 rows × 53 columns</p>\n",
       "</div>"
      ],
      "text/plain": [
       "   acura  audi  bmw  buick  cadillac  chevrolet  chrysler  dodge  ford  honda  \\\n",
       "0      0     0    0      0         0          0         0      0     1      1   \n",
       "1      0     0    0      0         0          0         0      0     1      0   \n",
       "2      0     0    0      0         0          0         0      0     1      1   \n",
       "3      1     0    0      0         0          0         0      0     1      0   \n",
       "4      0     0    0      0         0          0         0      0     0      0   \n",
       "\n",
       "   ...  fisker  maybach  saab  hummer  isuzu  oldsmobile  plymouth  eagle  \\\n",
       "0  ...       0        0     0       0      0           0         0      0   \n",
       "1  ...       0        0     0       0      0           0         0      0   \n",
       "2  ...       0        0     0       0      0           0         0      0   \n",
       "3  ...       0        0     0       0      0           0         0      0   \n",
       "4  ...       0        0     0       0      0           0         0      0   \n",
       "\n",
       "   geo  seat  \n",
       "0    0     0  \n",
       "1    0     0  \n",
       "2    0     1  \n",
       "3    0     0  \n",
       "4    0     0  \n",
       "\n",
       "[5 rows x 53 columns]"
      ]
     },
     "execution_count": 12,
     "metadata": {},
     "output_type": "execute_result"
    }
   ],
   "source": [
    "brand_counts = lem_count.copy()[brands] # create seperate df fro brand counting\n",
    "brand_counts.head()"
   ]
  },
  {
   "cell_type": "code",
   "execution_count": 13,
   "id": "9ee7debc-c1ac-4dc4-b5bc-d3f52cd82f63",
   "metadata": {},
   "outputs": [],
   "source": [
    "lem_count.drop(columns=brands, inplace=True) #drop brand columns for attribute grouping"
   ]
  },
  {
   "cell_type": "code",
   "execution_count": 14,
   "id": "db0c36ce-55fa-4758-b012-559a329ccb0f",
   "metadata": {},
   "outputs": [],
   "source": [
    "Prep_lex = lem_count.copy()\n",
    "Prep_lex = Prep_lex.sum().nlargest(1000) # get first 1000 words based on frequency\n",
    "Prep_lex = pd.DataFrame(Prep_lex)\n",
    "Prep_lex.reset_index(inplace=True)\n",
    "Prep_lex.columns = ['word','frequency'] # headers\n",
    "Prep_lex.to_csv(data_dir+'ATT_3.csv') # rearrange manually"
   ]
  },
  {
   "cell_type": "code",
   "execution_count": 15,
   "id": "f88ed4f4-fcef-4641-9978-76b705552c0a",
   "metadata": {},
   "outputs": [],
   "source": [
    "temp = lem_count.copy()\n",
    "\n",
    "# Words to remove\n",
    "rem_cols = [\"car\", \"'s\", \"n't\", \"''\", 'get', 'one', 'say', 'good', 'would', 'think',\"``\", 'like','...', 'much', 'also', 'vehicle', 'really', \n",
    "            \"'m\", \"even\", \"well\", \"chris\", \"skalski\", \"know\", \"back\", \"way\", \"need\", \"take\", \"mine\", \"could\", \"seem\", \"'ve\", \"come\", \"thing\",\n",
    "           \"many\", \"great\", \"test\", 'nice', 'people', 'find', 'sure', '..', 'right', 'high', 'low', 'never', 'give', 'work',\n",
    "           '....', 'best', 'month', 'first', 'probably', \"'d\", \"since\", \"day\", \"though\", \"something\", \"try\", \"start\", \"maybe\", \"less\", \"road\", \"ca\"]\n",
    "\n",
    "temp.drop(columns=rem_cols, inplace=True) #drop columns of unwantd words"
   ]
  },
  {
   "cell_type": "code",
   "execution_count": 16,
   "id": "cdb818da-3c7b-49d2-95aa-9073f0ed9a70",
   "metadata": {},
   "outputs": [],
   "source": [
    "lexicon = pd.read_csv(data_dir+\"ATTRIBUTES_FV.csv\")"
   ]
  },
  {
   "cell_type": "code",
   "execution_count": null,
   "id": "caa5d1da-6e35-4acf-a28d-3d89a12b6462",
   "metadata": {},
   "outputs": [],
   "source": [
    "# group columns and peform binary count of attributesfor parent in lexicon.Attribute.unique():\n",
    "for parent in lexicon.Attribute.unique():\n",
    "    child = lexicon[lexicon.Attribute == parent].Word.values\n",
    "    temp[parent] = temp[child].sum(axis = 1)>0\n",
    "    temp.drop(columns=child, inplace=True)\n",
    "\n",
    "temp.sum().nlargest(50)"
   ]
  },
  {
   "cell_type": "code",
   "execution_count": 19,
   "id": "638808fd-03ce-490f-946c-ec6ab00ad123",
   "metadata": {},
   "outputs": [
    {
     "data": {
      "text/plain": [
       "Age               5907\n",
       "Build             5125\n",
       "Price/Purchase    3758\n",
       "Aesthetic         3385\n",
       "Luxury            3290\n",
       "dtype: int64"
      ]
     },
     "execution_count": 19,
     "metadata": {},
     "output_type": "execute_result"
    }
   ],
   "source": [
    "# 5 most freqeuntly mentioned attributes\n",
    "top_atts = temp.sum().nlargest(5).index\n",
    "top_5_atts = pd.DataFrame(temp.sum().nlargest(5), columns = ['frequency'])"
   ]
  },
  {
   "cell_type": "code",
   "execution_count": 20,
   "id": "116ff044-adab-4ea9-8f94-174624ce88f1",
   "metadata": {},
   "outputs": [
    {
     "data": {
      "text/plain": [
       "Index(['honda', 'ford', 'infiniti', 'kia', 'toyota'], dtype='object')"
      ]
     },
     "execution_count": 20,
     "metadata": {},
     "output_type": "execute_result"
    }
   ],
   "source": [
    "# 5 most frequntly mentioned attributes\n",
    "top_brands = pd.read_csv(data_dir+\"top_10_brands.csv\", index_col=0)\n",
    "top_brands = top_brands.iloc[:,0].nlargest(5).index\n",
    "top_brands"
   ]
  },
  {
   "cell_type": "code",
   "execution_count": null,
   "id": "a2cebb33",
   "metadata": {},
   "outputs": [],
   "source": [
    "top_5_brands = pd.DataFrame(top_brands)\n",
    "top_5_brands['frequency'] = top_5_brands.iloc[:,0]\n",
    "top_5_brands.drop('0', inplace =True, axis =1)"
   ]
  },
  {
   "cell_type": "code",
   "execution_count": 21,
   "id": "f0f039bf-a95b-4cbe-9ce3-ed9e8fc4c442",
   "metadata": {},
   "outputs": [
    {
     "data": {
      "text/plain": [
       "Age               4704\n",
       "Build             4208\n",
       "Price/Purchase    2866\n",
       "Aesthetic         2644\n",
       "Luxury            2632\n",
       "dtype: int64"
      ]
     },
     "execution_count": 21,
     "metadata": {},
     "output_type": "execute_result"
    }
   ],
   "source": [
    "# filter out comments not related to top 5 brand\n",
    "brand_filter = brand_counts[top_brands].sum(axis=1)>0\n",
    "brand_att_count = temp[brand_filter].sum().nlargest(5)\n",
    "brand_att_count"
   ]
  },
  {
   "cell_type": "code",
   "execution_count": 22,
   "id": "e19e92ad-7179-48fe-a474-b05d1a759466",
   "metadata": {},
   "outputs": [],
   "source": [
    "top_atts = brand_att_count.index\n",
    "co_matrix = pd.DataFrame(columns=top_atts, index=top_brands)\n",
    "\n",
    "for brand in co_matrix.index:\n",
    "    for car in co_matrix.columns:\n",
    "        co_matrix[car][brand] = brand_counts[brand].multiply(temp[car]).sum()"
   ]
  },
  {
   "cell_type": "code",
   "execution_count": 23,
   "id": "9ab3a8ab-312e-44b7-8365-effdffd512eb",
   "metadata": {},
   "outputs": [
    {
     "data": {
      "text/html": [
       "<div>\n",
       "<style scoped>\n",
       "    .dataframe tbody tr th:only-of-type {\n",
       "        vertical-align: middle;\n",
       "    }\n",
       "\n",
       "    .dataframe tbody tr th {\n",
       "        vertical-align: top;\n",
       "    }\n",
       "\n",
       "    .dataframe thead th {\n",
       "        text-align: right;\n",
       "    }\n",
       "</style>\n",
       "<table border=\"1\" class=\"dataframe\">\n",
       "  <thead>\n",
       "    <tr style=\"text-align: right;\">\n",
       "      <th></th>\n",
       "      <th>Age</th>\n",
       "      <th>Build</th>\n",
       "      <th>Price/Purchase</th>\n",
       "      <th>Aesthetic</th>\n",
       "      <th>Luxury</th>\n",
       "    </tr>\n",
       "  </thead>\n",
       "  <tbody>\n",
       "    <tr>\n",
       "      <th>honda</th>\n",
       "      <td>2443</td>\n",
       "      <td>2246</td>\n",
       "      <td>1627</td>\n",
       "      <td>1447</td>\n",
       "      <td>1459</td>\n",
       "    </tr>\n",
       "    <tr>\n",
       "      <th>ford</th>\n",
       "      <td>2008</td>\n",
       "      <td>1771</td>\n",
       "      <td>1176</td>\n",
       "      <td>1123</td>\n",
       "      <td>1274</td>\n",
       "    </tr>\n",
       "    <tr>\n",
       "      <th>infiniti</th>\n",
       "      <td>2041</td>\n",
       "      <td>2006</td>\n",
       "      <td>1195</td>\n",
       "      <td>1098</td>\n",
       "      <td>888</td>\n",
       "    </tr>\n",
       "    <tr>\n",
       "      <th>kia</th>\n",
       "      <td>1581</td>\n",
       "      <td>1493</td>\n",
       "      <td>997</td>\n",
       "      <td>952</td>\n",
       "      <td>757</td>\n",
       "    </tr>\n",
       "    <tr>\n",
       "      <th>toyota</th>\n",
       "      <td>1248</td>\n",
       "      <td>1145</td>\n",
       "      <td>955</td>\n",
       "      <td>822</td>\n",
       "      <td>752</td>\n",
       "    </tr>\n",
       "  </tbody>\n",
       "</table>\n",
       "</div>"
      ],
      "text/plain": [
       "           Age Build Price/Purchase Aesthetic Luxury\n",
       "honda     2443  2246           1627      1447   1459\n",
       "ford      2008  1771           1176      1123   1274\n",
       "infiniti  2041  2006           1195      1098    888\n",
       "kia       1581  1493            997       952    757\n",
       "toyota    1248  1145            955       822    752"
      ]
     },
     "execution_count": 23,
     "metadata": {},
     "output_type": "execute_result"
    }
   ],
   "source": [
    "co_matrix"
   ]
  },
  {
   "cell_type": "code",
   "execution_count": 24,
   "id": "d7e97396",
   "metadata": {},
   "outputs": [],
   "source": [
    "co_matrix.to_csv(data_dir+\"co_matrix_attributes.csv\")"
   ]
  },
  {
   "cell_type": "code",
   "execution_count": 45,
   "id": "a6f3611b",
   "metadata": {},
   "outputs": [],
   "source": [
    "atts = temp.sum().nlargest(5) #mentions of top 5 attributes\n",
    "top_brands = pd.read_csv(data_dir+\"top_10_brands.csv\", index_col=0).iloc[:5,] #mentions of top 5 brands\n",
    "\n",
    "lift_matrix = co_matrix.copy()\n",
    "\n",
    "N = temp.shape[0] #number of comments = 7782\n",
    "\n",
    "for i in range(5):\n",
    "    for j in range(5):\n",
    "            lift_matrix.iloc[i,j] = round(N * (co_matrix.iloc[i,j]/(atts[j]*top_brands.iloc[i,0])),2)\n",
    "\n",
    "lift_matrix.to_csv(data_dir+\"lift_matrix_attributes.csv\")"
   ]
  },
  {
   "cell_type": "code",
   "execution_count": 56,
   "id": "297a25a4",
   "metadata": {},
   "outputs": [
    {
     "data": {
      "text/html": [
       "<div>\n",
       "<style scoped>\n",
       "    .dataframe tbody tr th:only-of-type {\n",
       "        vertical-align: middle;\n",
       "    }\n",
       "\n",
       "    .dataframe tbody tr th {\n",
       "        vertical-align: top;\n",
       "    }\n",
       "\n",
       "    .dataframe thead th {\n",
       "        text-align: right;\n",
       "    }\n",
       "</style>\n",
       "<table border=\"1\" class=\"dataframe\">\n",
       "  <thead>\n",
       "    <tr style=\"text-align: right;\">\n",
       "      <th></th>\n",
       "      <th>Age</th>\n",
       "      <th>Build</th>\n",
       "      <th>Price/Purchase</th>\n",
       "      <th>Aesthetic</th>\n",
       "      <th>Luxury</th>\n",
       "    </tr>\n",
       "  </thead>\n",
       "  <tbody>\n",
       "    <tr>\n",
       "      <th>honda</th>\n",
       "      <td>1.14</td>\n",
       "      <td>1.2</td>\n",
       "      <td>1.19</td>\n",
       "      <td>1.17</td>\n",
       "      <td>1.22</td>\n",
       "    </tr>\n",
       "    <tr>\n",
       "      <th>ford</th>\n",
       "      <td>1.13</td>\n",
       "      <td>1.15</td>\n",
       "      <td>1.04</td>\n",
       "      <td>1.1</td>\n",
       "      <td>1.29</td>\n",
       "    </tr>\n",
       "    <tr>\n",
       "      <th>infiniti</th>\n",
       "      <td>1.27</td>\n",
       "      <td>1.44</td>\n",
       "      <td>1.17</td>\n",
       "      <td>1.19</td>\n",
       "      <td>0.99</td>\n",
       "    </tr>\n",
       "    <tr>\n",
       "      <th>kia</th>\n",
       "      <td>1.21</td>\n",
       "      <td>1.31</td>\n",
       "      <td>1.2</td>\n",
       "      <td>1.27</td>\n",
       "      <td>1.04</td>\n",
       "    </tr>\n",
       "    <tr>\n",
       "      <th>toyota</th>\n",
       "      <td>1.09</td>\n",
       "      <td>1.16</td>\n",
       "      <td>1.32</td>\n",
       "      <td>1.26</td>\n",
       "      <td>1.18</td>\n",
       "    </tr>\n",
       "  </tbody>\n",
       "</table>\n",
       "</div>"
      ],
      "text/plain": [
       "           Age Build Price/Purchase Aesthetic Luxury\n",
       "honda     1.14   1.2           1.19      1.17   1.22\n",
       "ford      1.13  1.15           1.04       1.1   1.29\n",
       "infiniti  1.27  1.44           1.17      1.19   0.99\n",
       "kia       1.21  1.31            1.2      1.27   1.04\n",
       "toyota    1.09  1.16           1.32      1.26   1.18"
      ]
     },
     "execution_count": 56,
     "metadata": {},
     "output_type": "execute_result"
    }
   ],
   "source": [
    "lift_matrix"
   ]
  },
  {
   "cell_type": "code",
   "execution_count": 65,
   "id": "a5042e81",
   "metadata": {},
   "outputs": [
    {
     "data": {
      "image/png": "[encoded data removed]",
      "text/plain": [
       "<Figure size 576x576 with 2 Axes>"
      ]
     },
     "metadata": {
      "needs_background": "light"
     },
     "output_type": "display_data"
    }
   ],
   "source": [
    "matrix = pd.DataFrame(lift_matrix, dtype=\"float\")\n",
    "sns.heatmap(matrix, annot=True)\n",
    "plt.title('Lift Values of Top 5 brands & Attributes', fontsize=16)\n",
    "plt.savefig(plots_dir+'LiftMatrix_Attributes.png');"
   ]
  },
  {
   "cell_type": "markdown",
   "id": "0b01364d",
   "metadata": {},
   "source": [
    "## Lift analysis between issues and attributes for each brand"
   ]
  },
  {
   "cell_type": "code",
   "execution_count": null,
   "id": "6a45f60f",
   "metadata": {},
   "outputs": [],
   "source": [
    "brands_matrix= pd.read_csv(data_dir+\"Brands_Binary.csv\")\n",
    "a = brands_matrix[list(top_5_brands.index)]\n",
    "b = temp[list(top_5_atts.index)+['Issues']]\n",
    "df = a.merge(b,right_index = True, left_index = True)\n",
    "df.head(10)"
   ]
  },
  {
   "cell_type": "code",
   "execution_count": null,
   "id": "8ba6dc78",
   "metadata": {},
   "outputs": [],
   "source": [
    "# Getting Co - Matrix \n",
    "\n",
    "co_matrix_issues = pd.DataFrame(index=top_5_brands.index, columns=top_5_atts.index)\n",
    "freq_matrix_issues = []\n",
    "freq_matrix_att = pd.DataFrame(index=[x for x in top_5_brands.index], columns=top_5_atts.index)\n",
    "\n",
    "i = 0\n",
    "for brand in top_5_brands.index:\n",
    "    c = df[df[brand] == True] \n",
    "    freq_matrix_issues.append(c[(c.Issues == True)].shape[0])\n",
    "\n",
    "    for att in top_5_atts.index:\n",
    "        co_matrix_issues.loc[brand,att] = c[(c.Issues == True) & (c.loc[:,att]==True)].shape[0]\n",
    "        freq_matrix_att.loc[brand,att] = c[(c.loc[:,att]==True)].shape[0]\n",
    "      "
   ]
  },
  {
   "cell_type": "code",
   "execution_count": null,
   "id": "2f79c4b5",
   "metadata": {},
   "outputs": [],
   "source": [
    "lift_matrix_2 = pd.DataFrame(index=[x + ' - Issues' for x in top_5_brands.index], columns=top_5_atts.index)\n",
    "\n",
    "for i in range(5):\n",
    "    for j in range(5):\n",
    "        lift_matrix_2.iloc[i,j] = round(top_5_brands.frequency[i]*(co_matrix_issues.iloc[i,j]/(freq_matrix_issues[i]*freq_matrix_att.iloc[i,j])),3)"
   ]
  },
  {
   "cell_type": "code",
   "execution_count": null,
   "id": "f05bc974",
   "metadata": {},
   "outputs": [],
   "source": [
    "lift_matrix_2"
   ]
  },
  {
   "cell_type": "code",
   "execution_count": null,
   "id": "3dddc93f",
   "metadata": {},
   "outputs": [],
   "source": [
    "pd.DataFrame(lift_matrix_2[['Aesthetic', 'Luxury']].mean(axis = 1).nlargest(5), columns = ['average lift (Luxury + Aesthetic)'])"
   ]
  },
  {
   "cell_type": "code",
   "execution_count": null,
   "id": "991308f7",
   "metadata": {},
   "outputs": [],
   "source": [
    "pd.DataFrame(lift_matrix[['Aesthetic', 'Luxury']].mean(axis = 1).nlargest(5), columns = ['average lift (Luxury + Aesthetic)'])"
   ]
  }
 ],
 "metadata": {
  "kernelspec": {
   "display_name": "Python 3",
   "language": "python",
   "name": "python3"
  },
  "language_info": {
   "codemirror_mode": {
    "name": "ipython",
    "version": 3
   },
   "file_extension": ".py",
   "mimetype": "text/x-python",
   "name": "python",
   "nbconvert_exporter": "python",
   "pygments_lexer": "ipython3",
   "version": "3.8.8"
  }
 },
 "nbformat": 4,
 "nbformat_minor": 5
}
